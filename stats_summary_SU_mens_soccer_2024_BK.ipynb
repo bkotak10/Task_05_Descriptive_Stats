{
 "cells": [
  {
   "cell_type": "code",
   "execution_count": 9,
   "id": "578cf213-a505-476c-bf64-ef990dc5c963",
   "metadata": {},
   "outputs": [
    {
     "name": "stdout",
     "output_type": "stream",
     "text": [
      "Total games played: 17\n",
      "Total players: 23\n",
      "Top scorer: threadgold, gabe with 4 goals\n",
      "Most assists: acquah, michael with 6 assists\n",
      "Most minutes played: hut, tomas with 1460 minutes\n",
      "Total team goals: 25\n",
      "Average goals per player: 1.09\n",
      "\n",
      " Top contributors (G+A per 90 mins):\n",
      "              player  g  a   min  g+a_per_90\n",
      "12    gradus, michal  1  0    19    4.736842\n",
      "1    acquah, michael  1  6   719    0.876217\n",
      "16    leibold, giona  0  1   178    0.505618\n",
      "0   threadgold, gabe  4  3  1268    0.496845\n",
      "8       widman, ezra  2  0   457    0.393873\n"
     ]
    }
   ],
   "source": [
    "import pandas as pd\n",
    "import numpy as np\n",
    "\n",
    "\n",
    "# Load the dataset\n",
    "df = pd.read_csv(\"su_mens_soccer_2024.csv\")\n",
    "\n",
    "# Total games played\n",
    "total_games = df['gp'].max()\n",
    "print(\"Total games played:\", total_games)\n",
    "\n",
    "# Total players\n",
    "print(\"Total players:\", len(df))\n",
    "\n",
    "# Top scorer\n",
    "top_scorer = df.loc[df['g'].idxmax()]\n",
    "print(f\"Top scorer: {top_scorer['player']} with {top_scorer['g']} goals\")\n",
    "\n",
    "# Most assists\n",
    "top_assist = df.loc[df['a'].idxmax()]\n",
    "print(f\"Most assists: {top_assist['player']} with {top_assist['a']} assists\")\n",
    "\n",
    "# Most minutes played\n",
    "most_minutes = df.loc[df['min'].idxmax()]\n",
    "print(f\"Most minutes played: {most_minutes['player']} with {most_minutes['min']} minutes\")\n",
    "\n",
    "# Total team goals\n",
    "total_goals = df['g'].sum()\n",
    "print(\"Total team goals:\", total_goals)\n",
    "\n",
    "# Average goals per player\n",
    "print(\"Average goals per player:\", round(df['g'].mean(), 2))\n",
    "\n",
    "# Goal + Assist per 90 minutes (efficiency metric)\n",
    "df['g+a_per_90'] = (df['g'] + df['a']) / (df['min'] / 90)\n",
    "df_sorted = df[['player', 'g', 'a', 'min', 'g+a_per_90']].sort_values(by='g+a_per_90', ascending=False)\n",
    "\n",
    "print(\"\\n Top contributors (G+A per 90 mins):\")\n",
    "print(df_sorted.head())\n",
    "\n",
    "# Save to CSV for visualizations\n",
    "df_sorted.to_csv(\"top_contributors_per_90.csv\", index=False)"
   ]
  },
  {
   "cell_type": "markdown",
   "id": "10512bb5-934d-4ada-8c1e-31e3042ca2b6",
   "metadata": {},
   "source": [
    "## Prompt 1\n",
    "\n",
    "* How many games did SU Mens team play this season?\n",
    "  17 chatgpt answered correctly and so was my analysis correct (ChatGPT)\n",
    "\n",
    "## Prompt 2\n",
    "\n",
    "* Who scored the most goals in the 2024 season?\n",
    "  The Syracuse men’s soccer team’s top goal scorer during the 2024 season was Gabe Threadgold, who led the team with 4 goals over 17     matches (ChatGPT)\n",
    "\n",
    "## Prompt 3 \n",
    "\n",
    "* How many total goals were scored by the team?\n",
    "  The Syracuse University (SU) Men’s Soccer team scored a total of 25 goals during the 2024 season. According to the team’s cumulative stats for the season, the “Total” goals tally stands at 25 over 17 games (ChatGPT)"
   ]
  },
  {
   "cell_type": "markdown",
   "id": "c8bce52e-da1a-4bd4-88b4-57d0de793eb5",
   "metadata": {},
   "source": [
    "## Prompt 4 Which player had the highest impact per minute played, considering both goals and assists?\n",
    "Looking at the SU men’s soccer stats for the 2024 season, we can calculate a simple impact-per-minute metric using total points (where goals count as 2 pts and assists as 1 pt, according to their official “pts” column) divided by minutes played.\n",
    "\n",
    "From the cumulative stats:\n",
    "\t•\tMichal Gradus: 2 points in 19 minutes ≈ 0.1053 pts/min (We cannot consider a player who just played for 19 mins as the most impact player) that is where chat gpt fumbled a bit. So after I put in the prompt of more than 10 matches then the output was Michael Acquah\n",
    "    "
   ]
  },
  {
   "cell_type": "code",
   "execution_count": 23,
   "id": "f7371e11-a13f-48f5-a812-92e2d8f666f1",
   "metadata": {},
   "outputs": [
    {
     "name": "stdout",
     "output_type": "stream",
     "text": [
      "Prompt 4 - Highest G+A per 90 (Min 11 games played):\n",
      "→ acquah, michael with 0.88 G+A per 90\n",
      "\n"
     ]
    }
   ],
   "source": [
    "# Prompt 4: Highest impact per minute (G+A per 90 mins)\n",
    "impact_players = df[df['gp'] >= 11]\n",
    "impact_players = impact_players[impact_players['min'] > 0]\n",
    "impact_players['g+a_per_90'] = (impact_players['g'] + impact_players['a']) / (impact_players['min'] / 90)\n",
    "\n",
    "if not impact_players.empty:\n",
    "    prompt_4_player = impact_players.loc[impact_players['g+a_per_90'].idxmax(), 'player']\n",
    "    prompt_4_value = impact_players['g+a_per_90'].max()\n",
    "else:\n",
    "    prompt_4_player = \"None\"\n",
    "    prompt_4_value = 0\n",
    "print(\"Prompt 4 - Highest G+A per 90 (Min 11 games played):\")\n",
    "print(f\"→ {prompt_6_player} with {round(prompt_6_value, 2)} G+A per 90\\n\")"
   ]
  },
  {
   "cell_type": "markdown",
   "id": "c7535106-8d79-48a2-8bc8-4d08bb3ee7d9",
   "metadata": {},
   "source": [
    "## Prompt 5 Player with the most shots but lowest accuracy\n",
    "* Name the player with the most shots but low accuracy\n",
    "  Nicholas Kaloukian name given by (chatGPT) but thats incorrect here chatgpt halucinated. I later added the prompt to get the player with atleast 10 shots or more and accuracy means shots on goal out of total shots and nicholas has 50% of shots on target so thats not correct so the new answer is Elton Chifamba"
   ]
  },
  {
   "cell_type": "code",
   "execution_count": 24,
   "id": "b86701e3-164c-4d64-9da2-57ea7a4ceeda",
   "metadata": {},
   "outputs": [
    {
     "name": "stdout",
     "output_type": "stream",
     "text": [
      "Prompt 5 - Player with >10 shots and worst Shots-on-Goal %:\n",
      "→ chifamba, elton with 11 shots and 9.1% shots on goal\n",
      "\n"
     ]
    }
   ],
   "source": [
    "# Prompt 5: Player with >10 shots and worst sog%\n",
    "low_sog = df[(df['sh'] > 10)]  # only players with more than 10 shots\n",
    "\n",
    "if not low_sog.empty:\n",
    "    worst_player = low_sog.loc[low_sog['sog%'].idxmin()]\n",
    "    prompt_5_player = worst_player['player']\n",
    "    prompt_5_shots = worst_player['sh']\n",
    "    prompt_5_sog_percent = worst_player['sog%']\n",
    "    \n",
    "    print(\"Prompt 5 - Player with >10 shots and worst Shots-on-Goal %:\")\n",
    "    print(f\"→ {prompt_5_player} with {prompt_5_shots} shots and {prompt_5_sog_percent*100:.1f}% shots on goal\\n\")\n",
    "else:\n",
    "    print(\"→ No qualifying players found.\\n\")"
   ]
  },
  {
   "cell_type": "markdown",
   "id": "0ed844fc-6dc3-4586-93c1-6df97081d720",
   "metadata": {
    "scrolled": true
   },
   "source": [
    "## Prompt 6 As a manager, what areas should I improve to win the league — attack or defence?\n",
    "* Asked whether the team needs to improve in **attack** or **defence** to win the league.\n",
    "  ChatGPT analyzed total shots (233), goals (25), shot accuracy (42.9%), and goal conversion rate (10.7%) from the dataset. Since no data was available on goals conceded, defence couldn't be assessed.\n",
    "  Based on low conversion, it correctly concluded that the **attack** needs improvement — recommending focus on finishing, better decision-making in the final third, and improving chance quality. This answer is accurate and supported by the data.\n",
    "  In this case the LLM again failed to give the correct answer it did not take into conideration opponents stats and hence the output was attack but actually when we focus on opponent stats we have to work on our defence.\n"
   ]
  },
  {
   "cell_type": "code",
   "execution_count": 29,
   "id": "72ae8718-74f9-46e1-9516-afbeb564e7c4",
   "metadata": {},
   "outputs": [
    {
     "name": "stdout",
     "output_type": "stream",
     "text": [
      "\n",
      "Team Shot %:      0.107\n",
      "Opponent Shot %:  0.123\n",
      "Team SOG %:       0.429\n",
      "Opponent SOG %:   0.402\n",
      "Focus Area:       defense\n",
      "\n"
     ]
    }
   ],
   "source": [
    "import pandas as pd\n",
    "\n",
    "# Load and clean dataset\n",
    "df = pd.read_csv(\"su_mens_soccer_2024.csv\")\n",
    "df.columns = df.columns.str.strip().str.lower()\n",
    "\n",
    "# Exclude summary rows if present\n",
    "df_clean = df[~df['player'].str.lower().isin(['total', 'opponents'])]\n",
    "\n",
    "# Team totals\n",
    "team_goals = df_clean['g'].sum()\n",
    "team_shots = df_clean['sh'].sum()\n",
    "team_sog = df_clean['sog'].sum()\n",
    "\n",
    "# Opponent stats from original data\n",
    "opp_goals = 25\n",
    "opp_shots = 204\n",
    "opp_sog = 82\n",
    "\n",
    "# Percentages\n",
    "team_sh_pct = team_goals / team_shots if team_shots else 0\n",
    "opp_sh_pct = opp_goals / opp_shots if opp_shots else 0\n",
    "team_sog_pct = team_sog / team_shots if team_shots else 0\n",
    "opp_sog_pct = opp_sog / opp_shots if opp_shots else 0\n",
    "\n",
    "# Decision logic\n",
    "if (team_sog_pct - opp_sog_pct) > (opp_sh_pct - team_sh_pct):\n",
    "    focus = \"defense\"\n",
    "elif (opp_sh_pct - team_sh_pct) > (team_sog_pct - opp_sog_pct):\n",
    "    focus = \"attack\"\n",
    "else:\n",
    "    focus = \"both equally\"\n",
    "\n",
    "# Output\n",
    "print(f\"\"\"\n",
    "Team Shot %:      {team_sh_pct:.3f}\n",
    "Opponent Shot %:  {opp_sh_pct:.3f}\n",
    "Team SOG %:       {team_sog_pct:.3f}\n",
    "Opponent SOG %:   {opp_sog_pct:.3f}\n",
    "Focus Area:       {focus}\n",
    "\"\"\")"
   ]
  },
  {
   "cell_type": "code",
   "execution_count": null,
   "id": "33fa1038-3a27-48a4-a4da-a5495f7053b5",
   "metadata": {},
   "outputs": [],
   "source": []
  },
  {
   "cell_type": "code",
   "execution_count": null,
   "id": "2c6f9374-44a9-4ba3-991f-08ac588ff105",
   "metadata": {},
   "outputs": [],
   "source": []
  }
 ],
 "metadata": {
  "kernelspec": {
   "display_name": "Python 3 (ipykernel)",
   "language": "python",
   "name": "python3"
  },
  "language_info": {
   "codemirror_mode": {
    "name": "ipython",
    "version": 3
   },
   "file_extension": ".py",
   "mimetype": "text/x-python",
   "name": "python",
   "nbconvert_exporter": "python",
   "pygments_lexer": "ipython3",
   "version": "3.13.5"
  }
 },
 "nbformat": 4,
 "nbformat_minor": 5
}
